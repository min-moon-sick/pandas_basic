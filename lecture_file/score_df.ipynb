{
 "cells": [
  {
   "cell_type": "code",
   "execution_count": 1,
   "id": "4185ef8a",
   "metadata": {},
   "outputs": [],
   "source": [
    "import pandas as pd"
   ]
  },
  {
   "cell_type": "markdown",
   "id": "c7e98fc1",
   "metadata": {},
   "source": [
    "### 이름, 국어, 영어, 수학 점수를 입력받아, 이름을 인덱스로 데이터 프레임에 저장\n",
    "1. df 을 출력\n",
    "2. 이름을 입력받아 데이터프레임의 자료를 검색해서 출력\n",
    "3. 이름과 과목을 입력 받아 데이터 출력\n",
    "4. 자료 추가 "
   ]
  },
  {
   "cell_type": "code",
   "execution_count": null,
   "id": "7250abcb",
   "metadata": {},
   "outputs": [],
   "source": [
    "def create_score():\n",
    "    while True:\n",
    "        name = input(\"이름 입력 >\")\n",
    "        if name == 'q':\n",
    "            break\n",
    "        score = list(map(int, input(\"3과목 점수 입력 >\").split()))\n",
    "        score_df.loc[name] = score\n",
    "        \n",
    "def search_score():\n",
    "    s_name = input(\"검색할 이름 입력 >\")\n",
    "    if s_name in score_df.index:\n",
    "        print(\"{} : {}\".format(s_name, score_df.loc[s_name],end=''))\n",
    "\n",
    "def search_title():\n",
    "    s_name = input(\"검색할 이름 >\")  \n",
    "    if not s_name in score_df.index:\n",
    "        print(\"검색하고자 하는 이름 없음 \")\n",
    "        return\n",
    "    \n",
    "    s_title = input(\"검색할 과목 입력 >\")\n",
    "    if s_title in score_df.columns:\n",
    "        return score_df.loc[s_name, s_title]\n",
    "    else:\n",
    "        print(\"검색하고자 하는 과목 없음 \")\n",
    "        return        \n",
    "        \n",
    "def add_score():\n",
    "    name = input(\"추가할 이름 입력 >\")\n",
    "    if name in score_df.index:\n",
    "        print('존재하는 자료입니다')\n",
    "        return\n",
    "    score = list(map(int, input(\"3과목 점수 입력 >\").split()))\n",
    "    score_df.loc[name] = score    "
   ]
  },
  {
   "cell_type": "code",
   "execution_count": null,
   "id": "12188cd8",
   "metadata": {},
   "outputs": [],
   "source": [
    "score_df = pd.DataFrame(columns=['kor','eng','math'])\n",
    "create_score()\n",
    "score_d"
   ]
  },
  {
   "cell_type": "code",
   "execution_count": null,
   "id": "fb3f7d79",
   "metadata": {},
   "outputs": [],
   "source": [
    "search_score()\n",
    "print(\"검색한 과목의 점수는 : \", search_title())\n",
    "add_score()"
   ]
  }
 ],
 "metadata": {
  "kernelspec": {
   "display_name": "Python 3 (ipykernel)",
   "language": "python",
   "name": "python3"
  },
  "language_info": {
   "codemirror_mode": {
    "name": "ipython",
    "version": 3
   },
   "file_extension": ".py",
   "mimetype": "text/x-python",
   "name": "python",
   "nbconvert_exporter": "python",
   "pygments_lexer": "ipython3",
   "version": "3.9.7"
  }
 },
 "nbformat": 4,
 "nbformat_minor": 5
}
