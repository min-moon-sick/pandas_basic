{
 "cells": [
  {
   "cell_type": "code",
   "execution_count": 2,
   "id": "2221c889",
   "metadata": {},
   "outputs": [],
   "source": [
    "# numpy\n",
    "import numpy as np"
   ]
  },
  {
   "cell_type": "code",
   "execution_count": 11,
   "id": "db4f6e56",
   "metadata": {},
   "outputs": [
    {
     "name": "stdout",
     "output_type": "stream",
     "text": [
      "[[ 0  1  2  3  4]\n",
      " [ 5  6  7  8  9]\n",
      " [10 11 12 13 14]] <class 'numpy.ndarray'>\n",
      "2\n",
      "(3, 5) 15 int32\n",
      "4\n"
     ]
    }
   ],
   "source": [
    "arr = np.arange(15).reshape(3,5)\n",
    "print(arr, type(arr))\n",
    "print(arr.ndim) # 차원\n",
    "print(arr.shape, arr.size, arr.dtype.name) # shape : 3 * 5\n",
    "print(arr.dtype.itemsize) # 데이터 저장 공간 사이즈 : 4byte"
   ]
  },
  {
   "cell_type": "code",
   "execution_count": 5,
   "id": "c2389773",
   "metadata": {},
   "outputs": [
    {
     "data": {
      "text/plain": [
       "[0, 1, 2, 3, 4, 5, 6, 7, 8, 9, 10, 11, 12, 13, 14]"
      ]
     },
     "execution_count": 5,
     "metadata": {},
     "output_type": "execute_result"
    }
   ],
   "source": [
    "a_list = list(range(15))\n",
    "a_list"
   ]
  },
  {
   "cell_type": "code",
   "execution_count": 20,
   "id": "e45c7b70",
   "metadata": {},
   "outputs": [
    {
     "name": "stdout",
     "output_type": "stream",
     "text": [
      "[[-5.  -4.5 -4.  -3.5 -3. ]\n",
      " [-2.5 -2.  -1.5 -1.  -0.5]\n",
      " [ 0.   0.5  1.   1.5  2. ]\n",
      " [ 2.5  3.   3.5  4.   4.5]] \n",
      "\n",
      "[-5.  -4.5 -4.  -3.5 -3.  -2.5 -2.  -1.5 -1.  -0.5  0.   0.5  1.   1.5\n",
      "  2.   2.5  3.   3.5  4.   4.5]\n"
     ]
    },
    {
     "data": {
      "text/plain": [
       "1"
      ]
     },
     "execution_count": 20,
     "metadata": {},
     "output_type": "execute_result"
    }
   ],
   "source": [
    "arr = np.arange(-5,5,0.5)\n",
    "arr = arr.reshape(4, int(arr.size/4))\n",
    "print(arr, '\\n')\n",
    "\n",
    "arr1 = arr.flatten()\n",
    "print(arr1)   # 다차원을 1차원으로 변형\n",
    "arr1.ndim"
   ]
  },
  {
   "cell_type": "code",
   "execution_count": 23,
   "id": "6bf0c94f",
   "metadata": {},
   "outputs": [
    {
     "name": "stdout",
     "output_type": "stream",
     "text": [
      "list_a : [1 2 3], list_a의 type : <class 'numpy.ndarray'>\n",
      "list_b : [[1 2 3]\n",
      " [4 5 6]], list_b의 type : <class 'numpy.ndarray'>\n",
      "\n",
      "list_a dim: 1, list_a의 shape : (3,)\n",
      "list_b dim: 2, list_b의 shape : (2, 3)\n",
      "\n",
      "list_a 사이즈: 3, list_a의 타입 : int32\n",
      "list_b 사이즈: 6, list_b의 타입 : int32\n"
     ]
    }
   ],
   "source": [
    "# 기존의 파이썬 리스트로 array 생성\n",
    "list_a = np.array([1,2,3])\n",
    "list_b = np.array([[1,2,3] , [4,5,6]])\n",
    "\n",
    "print(\"list_a : {}, list_a의 type : {}\".format(list_a, type(list_a)))\n",
    "print(\"list_b : {}, list_b의 type : {}\".format(list_b, type(list_b)))\n",
    "print()\n",
    "print(\"list_a dim: {}, list_a의 shape : {}\".format(list_a.ndim, list_a.shape))\n",
    "print(\"list_b dim: {}, list_b의 shape : {}\".format(list_b.ndim, list_b.shape))\n",
    "print()\n",
    "print(\"list_a 사이즈: {}, list_a의 타입 : {}\".format(list_a.size, list_a.dtype))\n",
    "print(\"list_b 사이즈: {}, list_b의 타입 : {}\".format(list_b.size, list_b.dtype))"
   ]
  },
  {
   "cell_type": "code",
   "execution_count": 18,
   "id": "d5de6c42",
   "metadata": {},
   "outputs": [
    {
     "name": "stdout",
     "output_type": "stream",
     "text": [
      "[0. 0. 0. 0. 0.]\n",
      "[[0. 0. 0.]\n",
      " [0. 0. 0.]]\n",
      "[[0 0]\n",
      " [0 0]\n",
      " [0 0]\n",
      " [0 0]\n",
      " [0 0]] \n",
      "\n",
      "['' '' '' '' ''] \n",
      "\n",
      "[[[1 1 1 1]\n",
      "  [1 1 1 1]\n",
      "  [1 1 1 1]]\n",
      "\n",
      " [[1 1 1 1]\n",
      "  [1 1 1 1]\n",
      "  [1 1 1 1]]] \n",
      "\n",
      "[[1. 1. 1.]\n",
      " [1. 1. 1.]] \n",
      "\n",
      "[[1.09699176e-311 3.16202013e-322 0.00000000e+000]\n",
      " [0.00000000e+000 1.89146896e-307 4.35596825e-061]\n",
      " [4.79509857e-037 1.21455138e-046 2.36105205e+180]\n",
      " [1.82627995e+184 9.68218955e-071 1.03119413e-071]] \n",
      "\n",
      "[  0.  inf -inf  nan] \n",
      "\n"
     ]
    },
    {
     "name": "stderr",
     "output_type": "stream",
     "text": [
      "C:\\Users\\HPE\\AppData\\Local\\Temp/ipykernel_11656/2578966082.py:10: RuntimeWarning: divide by zero encountered in true_divide\n",
      "  print(np.array([0,1,-1,0])/np.array([1,0,0,0]), '\\n')\n",
      "C:\\Users\\HPE\\AppData\\Local\\Temp/ipykernel_11656/2578966082.py:10: RuntimeWarning: invalid value encountered in true_divide\n",
      "  print(np.array([0,1,-1,0])/np.array([1,0,0,0]), '\\n')\n"
     ]
    }
   ],
   "source": [
    "a =np.zeros(5)\n",
    "print(a)\n",
    "b = np.zeros((2,3))\n",
    "print(b)\n",
    "print(np.zeros((5,2), dtype='i'), '\\n')\n",
    "print(np.zeros(5, dtype='U4'), '\\n')\n",
    "print(np.ones((2,3,4), dtype = 'i8'), '\\n')\n",
    "print(np.ones_like(b, dtype = 'f'), '\\n')\n",
    "print(np.empty((4,3)), '\\n')\n",
    "print(np.array([0,1,-1,0]) / np.array([1,0,0,0]), '\\n')"
   ]
  },
  {
   "cell_type": "code",
   "execution_count": 20,
   "id": "29020d9b",
   "metadata": {},
   "outputs": [
    {
     "data": {
      "text/plain": [
       "array([[ 4.,  3.],\n",
       "       [ 9.,  8.],\n",
       "       [14., 13.]])"
      ]
     },
     "execution_count": 20,
     "metadata": {},
     "output_type": "execute_result"
    }
   ],
   "source": [
    "x2 = np.array([-1.0, -2.0])\n",
    "z2 = np.array([[5.0], [10.0], [15.0]])\n",
    "\n",
    "x2 + z2"
   ]
  },
  {
   "cell_type": "code",
   "execution_count": 33,
   "id": "5d3d56ca",
   "metadata": {},
   "outputs": [
    {
     "name": "stdout",
     "output_type": "stream",
     "text": [
      "[ 81  64  49  36  25 -16   9  -4   1   0]\n",
      "0\t1\t-4\t9\t-16\t25\t36\t49\t64\t81\t[[ 2  3  4  5]\n",
      " [ 7  8  9 10]\n",
      " [12 13 14 15]]\n"
     ]
    }
   ],
   "source": [
    "# numpy indexing, slicing, iterating\n",
    "arr = np.arange(10) **2\n",
    "arr[3:5]\n",
    "arr[0:6:2] = -arr[0:6:2] \n",
    "print(arr[::-1])\n",
    "\n",
    "for i in arr:\n",
    "    print(i, end = '\\t')\n",
    "    \n",
    "arr = np.arange(1,21,1).reshape(4,5)\n",
    "arr\n",
    "\n",
    "print(arr[:3, 1:])"
   ]
  },
  {
   "cell_type": "code",
   "execution_count": 35,
   "id": "3291cde6",
   "metadata": {},
   "outputs": [
    {
     "name": "stdout",
     "output_type": "stream",
     "text": [
      "[0 1 2 3 4 5] [ 1.          0.54030231 -0.41614684 -0.9899925  -0.65364362  0.28366219] [ 0.          0.84147098  0.90929743  0.14112001 -0.7568025  -0.95892427]\n",
      "[-4.60517019 -2.81341072 -2.20727491 -1.83258146 -1.56064775 -1.34707365\n",
      " -1.17118298 -1.02165125 -0.89159812 -0.77652879 -0.67334455 -0.5798185\n",
      " -0.49429632 -0.41551544 -0.34249031 -0.27443685 -0.21072103 -0.15082289\n",
      " -0.09431068 -0.04082199]\n"
     ]
    }
   ],
   "source": [
    "# numpy 일반 함수\n",
    "# np.cos(), sin(), tanh(), exp()\n",
    "\n",
    "arr = np.arange(0,6,1)\n",
    "print(arr, np.cos(arr), np.sin(arr))\n",
    "\n",
    "arr = np.arange(0.01, 1, 0.05)\n",
    "print(np.log(arr))"
   ]
  },
  {
   "cell_type": "code",
   "execution_count": 44,
   "id": "a3d16f78",
   "metadata": {},
   "outputs": [
    {
     "name": "stdout",
     "output_type": "stream",
     "text": [
      "[2 5 4] \n",
      "\n",
      "[1 3 2] \n",
      "\n",
      "9 \n",
      "\n",
      "[12 95 98 16  8] \n",
      "\n",
      "[[0.14592087 0.96639503 0.3649692 ]\n",
      " [0.53158355 0.54358219 0.54356547]] \n",
      "\n",
      "[[-0.41432459  0.49922661  0.28114107]\n",
      " [-1.37441283 -0.58624403 -0.21668072]] \n",
      "\n",
      "0 : 6 \n",
      "\n",
      "[[0.1 0.8 0.2]\n",
      " [0.3 0.2 0.5]\n",
      " [0.9 0.5 0.3]] \n",
      "\n",
      "[2 0 1] \n",
      "\n",
      "[1 2 0] \n",
      "\n"
     ]
    }
   ],
   "source": [
    "arr1 = np.array([2,3,4])\n",
    "arr2 = np.array([1,5,2])\n",
    "\n",
    "print(np.maximum(arr1, arr2), '\\n')\n",
    "print(np.minimum(arr1, arr2), '\\n')\n",
    "print(np.sum(arr1), '\\n')\n",
    "print(np.random.choice(100,5), '\\n')     # 0~100 사이의 수 중에서 5개 출력\n",
    "print(np.random.rand(2,3), '\\n')         # 2행 3열의 random 값 리턴 ( 0 ~ 1 사이 난수 생성)\n",
    "print(np.random.randn(2,3), '\\n')        # 2행 3열의 random 값 리턴 (가우시안 표준 정규분포를 따르는 난수 생성) \n",
    "\n",
    "# 위치를 반환하는 함수 argmax, argmin\n",
    "arr = np.array([6,2,3,1,4,5])\n",
    "print(np.argmax(arr), \":\", arr[np.argmax(arr)], '\\n')\n",
    "\n",
    "arr3 = np.array([[0.1, 0.8, 0.2], [0.3, 0.2, 0.5], [0.9, 0.5, 0.3]])\n",
    "print(arr3, '\\n')\n",
    "print(np.argmax(arr3, axis=0), '\\n')\n",
    "print(np.argmax(arr3, axis=1), '\\n')"
   ]
  },
  {
   "cell_type": "code",
   "execution_count": 48,
   "id": "429c5417",
   "metadata": {},
   "outputs": [
    {
     "name": "stdout",
     "output_type": "stream",
     "text": [
      "26 \n",
      "\n",
      "4.8076923076923075 \n",
      "\n",
      "115.23224852071006 \n",
      "\n",
      "10.734628476137871 \n",
      "\n",
      "23 \t -24 \t 5.0 \n",
      "\n",
      "0.0 \n",
      "\n",
      "5.0 \n",
      "\n",
      "23.0 \n",
      "\n"
     ]
    }
   ],
   "source": [
    "# 기술 통계 함수\n",
    "# count(), mean(), var(), std(), median(), max(), min(), percetile()\n",
    "\n",
    "arr = np.array([18,5,10,23,19,-8,10,0,0,5,2,15,8,2,5,4,15,-1,4,-7,-24,7,9,-6,23,-13])\n",
    "\n",
    "print(len(arr), '\\n')\n",
    "print(np.mean(arr), '\\n')                                        # 평균\n",
    "print(np.var(arr), '\\n')                                         # 분산\n",
    "print(np.std(arr), '\\n')                                         # 표준편차\n",
    "print(np.max(arr), '\\t', np.min(arr), '\\t',np.median(arr), '\\n') # 최대값, 최소값, 중앙값\n",
    "print(np.percentile(arr,25), '\\n')                               # 1 사분위 수\n",
    "print(np.percentile(arr,50), '\\n')                               # 2 사분위 수\n",
    "print(np.percentile(arr,100), '\\n')                              # 최대값"
   ]
  },
  {
   "cell_type": "code",
   "execution_count": 49,
   "id": "54194b70",
   "metadata": {},
   "outputs": [
    {
     "data": {
      "text/plain": [
       "array([0.5488135 , 0.71518937, 0.60276338, 0.54488318, 0.4236548 ])"
      ]
     },
     "execution_count": 49,
     "metadata": {},
     "output_type": "execute_result"
    }
   ],
   "source": [
    "# 난수 발생과 카운팅\n",
    "np.random.seed(0)\n",
    "np.random.rand(5)"
   ]
  },
  {
   "cell_type": "code",
   "execution_count": 51,
   "id": "80ab4709",
   "metadata": {},
   "outputs": [
    {
     "name": "stdout",
     "output_type": "stream",
     "text": [
      "[0 1 2 3 4 5 6 7 8 9]\n",
      "[5 2 3 4 1 0 9 8 7 6]\n"
     ]
    }
   ],
   "source": [
    "# 데이터 순서를 바꾸는 방법\n",
    "arr = np.arange(10)\n",
    "print(arr, '\\n')\n",
    "\n",
    "np.random.shuffle(arr)\n",
    "print(arr, '\\n')"
   ]
  },
  {
   "cell_type": "code",
   "execution_count": 58,
   "id": "0a7deeab",
   "metadata": {},
   "outputs": [
    {
     "data": {
      "text/plain": [
       "array([3, 3, 0, 2, 0, 3, 3, 3, 2, 2])"
      ]
     },
     "execution_count": 58,
     "metadata": {},
     "output_type": "execute_result"
    }
   ],
   "source": [
    "# 샘플링 : choice()\n",
    "np.random.choice(5,5, replace = False)          # shuffle 과 같은 결과\n",
    "np.random.choice(10,3, replace = False)         # replace = False -> 중복 허용 안됨\n",
    "np.random.choice(5,10)                           # 중복 허용\n",
    "np.random.choice(5,10, p=[0.1, 0, 0.3, 0.6, 0])  # 선택확률을 다르게"
   ]
  },
  {
   "cell_type": "code",
   "execution_count": 68,
   "id": "f754ad76",
   "metadata": {},
   "outputs": [
    {
     "data": {
      "text/plain": [
       "array([[18, 18, 14, 14, 10],\n",
       "       [19, 13, 17, 13, 12],\n",
       "       [11, 11, 12, 11, 14]])"
      ]
     },
     "execution_count": 68,
     "metadata": {},
     "output_type": "execute_result"
    }
   ],
   "source": [
    "# randint() 정수 난수 발생  randint(low, high = None, size = None) \n",
    "# np.random.randint(10, size = 10)              # 10은 포함하지 않음\n",
    "# np.random.randint(10, 20, size = 10)          # 20은 포함하지 않음\n",
    "np.random.randint(10, 20, size = (3,5))       # 3행 5열 array로 반환"
   ]
  },
  {
   "cell_type": "code",
   "execution_count": 96,
   "id": "9c590159",
   "metadata": {},
   "outputs": [
    {
     "name": "stdout",
     "output_type": "stream",
     "text": [
      "[ 3  6  9 12 15 18]\n",
      "[ 1  5  9 13 17]\n",
      "[9]\n"
     ]
    }
   ],
   "source": [
    "x = np.arange(1,21)\n",
    "\n",
    "# 3의 배수 찾기\n",
    "print(x[x%3 == 0])\n",
    "\n",
    "# 4로 나누면 1이 남는 수 찾기\n",
    "print(x[x%4 == 1])\n",
    "\n",
    "# 3으로 나누면 나누어지고 4로 나누면 1이 남는 수 찾기\n",
    "print(x[(x%3 == 0) & (x%4 == 1)])"
   ]
  },
  {
   "cell_type": "code",
   "execution_count": null,
   "id": "dd3d524a",
   "metadata": {},
   "outputs": [],
   "source": []
  }
 ],
 "metadata": {
  "kernelspec": {
   "display_name": "Python 3 (ipykernel)",
   "language": "python",
   "name": "python3"
  },
  "language_info": {
   "codemirror_mode": {
    "name": "ipython",
    "version": 3
   },
   "file_extension": ".py",
   "mimetype": "text/x-python",
   "name": "python",
   "nbconvert_exporter": "python",
   "pygments_lexer": "ipython3",
   "version": "3.9.7"
  }
 },
 "nbformat": 4,
 "nbformat_minor": 5
}
