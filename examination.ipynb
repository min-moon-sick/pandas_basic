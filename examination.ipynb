{
 "cells": [
  {
   "cell_type": "code",
   "execution_count": 14,
   "id": "f8799cbd",
   "metadata": {},
   "outputs": [],
   "source": [
    "import pandas as pd"
   ]
  },
  {
   "cell_type": "code",
   "execution_count": 15,
   "id": "857ac069",
   "metadata": {},
   "outputs": [
    {
     "name": "stdout",
     "output_type": "stream",
     "text": [
      "<class 'pandas.core.frame.DataFrame'>\n",
      "RangeIndex: 397 entries, 0 to 396\n",
      "Data columns (total 9 columns):\n",
      " #   Column        Non-Null Count  Dtype  \n",
      "---  ------        --------------  -----  \n",
      " 0   mpg           397 non-null    float64\n",
      " 1   cylinders     397 non-null    int64  \n",
      " 2   displacement  397 non-null    float64\n",
      " 3   horsepower    397 non-null    object \n",
      " 4   weight        397 non-null    float64\n",
      " 5   acceleration  397 non-null    float64\n",
      " 6   model year    397 non-null    int64  \n",
      " 7   origin        397 non-null    int64  \n",
      " 8   name          397 non-null    object \n",
      "dtypes: float64(4), int64(3), object(2)\n",
      "memory usage: 28.0+ KB\n"
     ]
    }
   ],
   "source": [
    "# read\n",
    "df = pd.read_csv('./dataset/auto-mpg.csv')\n",
    "\n",
    "# 1. 컬럼명 지정\n",
    "df.columns = ['mpg','cylinders','displacement','horsepower','weight',\n",
    "              'acceleration','model year','origin','name']\n",
    "\n",
    "# 2. 데이터 정보 확인\n",
    "df.info()"
   ]
  },
  {
   "cell_type": "code",
   "execution_count": 27,
   "id": "36226975",
   "metadata": {},
   "outputs": [
    {
     "name": "stdout",
     "output_type": "stream",
     "text": [
      "{397}\n"
     ]
    }
   ],
   "source": [
    "# 3. 누락 데이터 처리 -> 삭제\n",
    "\n",
    "for i in range(len(df.columns)):\n",
    "    x.append(len(df[df.columns[i]]))\n",
    "    \n",
    "print(set(x))  # --> 개수 이상은 없음\n"
   ]
  },
  {
   "cell_type": "code",
   "execution_count": 65,
   "id": "783ab519",
   "metadata": {},
   "outputs": [
    {
     "data": {
      "text/plain": [
       "<AxesSubplot:xlabel='weight', ylabel='mpg'>"
      ]
     },
     "execution_count": 65,
     "metadata": {},
     "output_type": "execute_result"
    },
    {
     "data": {
      "image/png": "[encoded data removed]",
      "text/plain": [
       "<Figure size 432x288 with 1 Axes>"
      ]
     },
     "metadata": {
      "needs_background": "light"
     },
     "output_type": "display_data"
    }
   ],
   "source": [
    "# 4. weight와 mpg의 scatter 그래프 작성\n",
    "import matplotlib.pyplot as plt\n",
    "\n",
    "df.plot(x = 'weight', y= 'mpg', kind='scatter')"
   ]
  },
  {
   "cell_type": "code",
   "execution_count": 84,
   "id": "13fe3a0a",
   "metadata": {},
   "outputs": [
    {
     "data": {
      "text/plain": [
       "{'whiskers': [<matplotlib.lines.Line2D at 0x19b85e7cee0>,\n",
       "  <matplotlib.lines.Line2D at 0x19b85e88280>,\n",
       "  <matplotlib.lines.Line2D at 0x19b85e623d0>,\n",
       "  <matplotlib.lines.Line2D at 0x19b85e625b0>,\n",
       "  <matplotlib.lines.Line2D at 0x19b85e9b5e0>,\n",
       "  <matplotlib.lines.Line2D at 0x19b85e9b760>],\n",
       " 'caps': [<matplotlib.lines.Line2D at 0x19b85e88340>,\n",
       "  <matplotlib.lines.Line2D at 0x19b85e888e0>,\n",
       "  <matplotlib.lines.Line2D at 0x19b85e91e20>,\n",
       "  <matplotlib.lines.Line2D at 0x19b85e91fa0>,\n",
       "  <matplotlib.lines.Line2D at 0x19b85e9b0d0>,\n",
       "  <matplotlib.lines.Line2D at 0x19b8604adc0>],\n",
       " 'boxes': [<matplotlib.lines.Line2D at 0x19b85e7c850>,\n",
       "  <matplotlib.lines.Line2D at 0x19b85e628e0>,\n",
       "  <matplotlib.lines.Line2D at 0x19b85e9b220>],\n",
       " 'medians': [<matplotlib.lines.Line2D at 0x19b85e88f40>,\n",
       "  <matplotlib.lines.Line2D at 0x19b85e91f70>,\n",
       "  <matplotlib.lines.Line2D at 0x19b855b6ca0>],\n",
       " 'fliers': [<matplotlib.lines.Line2D at 0x19b85e62dc0>,\n",
       "  <matplotlib.lines.Line2D at 0x19b861ec040>,\n",
       "  <matplotlib.lines.Line2D at 0x19b86144340>],\n",
       " 'means': []}"
      ]
     },
     "execution_count": 84,
     "metadata": {},
     "output_type": "execute_result"
    },
    {
     "data": {
      "image/png": "[encoded data removed]",
      "text/plain": [
       "<Figure size 432x288 with 1 Axes>"
      ]
     },
     "metadata": {
      "needs_background": "light"
     },
     "output_type": "display_data"
    }
   ],
   "source": [
    "# 5. 제조국가별로 mpg를 boxplot으로 표현\n",
    "\n",
    "plt.boxplot(x = [df[df['origin'] == i]['mpg'] for i in list(df['origin'].unique())], labels=['USA', 'EU', 'JP'])"
   ]
  },
  {
   "cell_type": "code",
   "execution_count": 101,
   "id": "3785ac32",
   "metadata": {},
   "outputs": [
    {
     "data": {
      "text/plain": [
       "0"
      ]
     },
     "execution_count": 101,
     "metadata": {},
     "output_type": "execute_result"
    }
   ],
   "source": [
    "# 6. 중복 데이터를 제거 (행 제거)\n",
    "df.duplicated().sum()"
   ]
  },
  {
   "cell_type": "code",
   "execution_count": 102,
   "id": "977a33b3",
   "metadata": {},
   "outputs": [
    {
     "data": {
      "text/plain": [
       "array(['USA', 'JPN', 'EU'], dtype=object)"
      ]
     },
     "execution_count": 102,
     "metadata": {},
     "output_type": "execute_result"
    }
   ],
   "source": [
    "# 7. 제조국가 '1':'USA', '2':'EU', '3':'JPN'을 컬럼의 값을 변경\n",
    "\n",
    "# df['origin'].unique()\n",
    "\n",
    "df.origin.replace({1:'USA', 2:'EU', 3:'JPN'}, inplace=True)\n",
    "df['origin'].unique()"
   ]
  },
  {
   "cell_type": "code",
   "execution_count": null,
   "id": "9143d00c",
   "metadata": {},
   "outputs": [],
   "source": []
  }
 ],
 "metadata": {
  "kernelspec": {
   "display_name": "Python 3 (ipykernel)",
   "language": "python",
   "name": "python3"
  },
  "language_info": {
   "codemirror_mode": {
    "name": "ipython",
    "version": 3
   },
   "file_extension": ".py",
   "mimetype": "text/x-python",
   "name": "python",
   "nbconvert_exporter": "python",
   "pygments_lexer": "ipython3",
   "version": "3.9.7"
  }
 },
 "nbformat": 4,
 "nbformat_minor": 5
}
