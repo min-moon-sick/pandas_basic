{
 "cells": [
  {
   "cell_type": "code",
   "execution_count": 1,
   "id": "b05d8c38",
   "metadata": {},
   "outputs": [],
   "source": [
    "# numpy\n",
    "import numpy as np"
   ]
  },
  {
   "cell_type": "code",
   "execution_count": 11,
   "id": "99a91b74",
   "metadata": {},
   "outputs": [
    {
     "name": "stdout",
     "output_type": "stream",
     "text": [
      "[[ 0  1  2  3  4]\n",
      " [ 5  6  7  8  9]\n",
      " [10 11 12 13 14]] <class 'numpy.ndarray'>\n",
      "2\n",
      "(3, 5) 15 int32\n",
      "4\n"
     ]
    }
   ],
   "source": [
    "arr = np.arange(15).reshape(3,5)\n",
    "print(arr, type(arr))\n",
    "print(arr.ndim) # 차원\n",
    "print(arr.shape, arr.size, arr.dtype.name) # shape : 3 * 5\n",
    "print(arr.dtype.itemsize) # 데이터 저장 공간 사이즈 : 4byte"
   ]
  },
  {
   "cell_type": "code",
   "execution_count": 5,
   "id": "3ca028b7",
   "metadata": {},
   "outputs": [
    {
     "data": {
      "text/plain": [
       "[0, 1, 2, 3, 4, 5, 6, 7, 8, 9, 10, 11, 12, 13, 14]"
      ]
     },
     "execution_count": 5,
     "metadata": {},
     "output_type": "execute_result"
    }
   ],
   "source": [
    "a_list = list(range(15))\n",
    "a_list"
   ]
  },
  {
   "cell_type": "code",
   "execution_count": 20,
   "id": "3666d47e",
   "metadata": {},
   "outputs": [
    {
     "name": "stdout",
     "output_type": "stream",
     "text": [
      "[[-5.  -4.5 -4.  -3.5 -3. ]\n",
      " [-2.5 -2.  -1.5 -1.  -0.5]\n",
      " [ 0.   0.5  1.   1.5  2. ]\n",
      " [ 2.5  3.   3.5  4.   4.5]] \n",
      "\n",
      "[-5.  -4.5 -4.  -3.5 -3.  -2.5 -2.  -1.5 -1.  -0.5  0.   0.5  1.   1.5\n",
      "  2.   2.5  3.   3.5  4.   4.5]\n"
     ]
    },
    {
     "data": {
      "text/plain": [
       "1"
      ]
     },
     "execution_count": 20,
     "metadata": {},
     "output_type": "execute_result"
    }
   ],
   "source": [
    "arr = np.arange(-5,5,0.5)\n",
    "arr = arr.reshape(4, int(arr.size/4))\n",
    "print(arr, '\\n')\n",
    "\n",
    "arr1 = arr.flatten()\n",
    "print(arr1)   # 다차원을 1차원으로 변형\n",
    "arr1.ndim"
   ]
  },
  {
   "cell_type": "code",
   "execution_count": 23,
   "id": "fd8cb519",
   "metadata": {},
   "outputs": [
    {
     "name": "stdout",
     "output_type": "stream",
     "text": [
      "list_a : [1 2 3], list_a의 type : <class 'numpy.ndarray'>\n",
      "list_b : [[1 2 3]\n",
      " [4 5 6]], list_b의 type : <class 'numpy.ndarray'>\n",
      "\n",
      "list_a dim: 1, list_a의 shape : (3,)\n",
      "list_b dim: 2, list_b의 shape : (2, 3)\n",
      "\n",
      "list_a 사이즈: 3, list_a의 타입 : int32\n",
      "list_b 사이즈: 6, list_b의 타입 : int32\n"
     ]
    }
   ],
   "source": [
    "# 기존의 파이썬 리스트로 array 생성\n",
    "list_a = np.array([1,2,3])\n",
    "list_b = np.array([[1,2,3] , [4,5,6]])\n",
    "\n",
    "print(\"list_a : {}, list_a의 type : {}\".format(list_a, type(list_a)))\n",
    "print(\"list_b : {}, list_b의 type : {}\".format(list_b, type(list_b)))\n",
    "print()\n",
    "print(\"list_a dim: {}, list_a의 shape : {}\".format(list_a.ndim, list_a.shape))\n",
    "print(\"list_b dim: {}, list_b의 shape : {}\".format(list_b.ndim, list_b.shape))\n",
    "print()\n",
    "print(\"list_a 사이즈: {}, list_a의 타입 : {}\".format(list_a.size, list_a.dtype))\n",
    "print(\"list_b 사이즈: {}, list_b의 타입 : {}\".format(list_b.size, list_b.dtype))"
   ]
  },
  {
   "cell_type": "code",
   "execution_count": null,
   "id": "89443a76",
   "metadata": {},
   "outputs": [],
   "source": []
  }
 ],
 "metadata": {
  "kernelspec": {
   "display_name": "Python 3 (ipykernel)",
   "language": "python",
   "name": "python3"
  },
  "language_info": {
   "codemirror_mode": {
    "name": "ipython",
    "version": 3
   },
   "file_extension": ".py",
   "mimetype": "text/x-python",
   "name": "python",
   "nbconvert_exporter": "python",
   "pygments_lexer": "ipython3",
   "version": "3.9.7"
  }
 },
 "nbformat": 4,
 "nbformat_minor": 5
}
