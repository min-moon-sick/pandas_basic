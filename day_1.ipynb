{
 "cells": [
  {
   "cell_type": "code",
   "execution_count": 50,
   "id": "2571f1ba",
   "metadata": {},
   "outputs": [],
   "source": [
    "# 시리즈 : 1차원 배열 -> 인덱스와 값이 존재\n",
    "import pandas as pd"
   ]
  },
  {
   "cell_type": "code",
   "execution_count": 51,
   "id": "03ea5919",
   "metadata": {},
   "outputs": [
    {
     "name": "stdout",
     "output_type": "stream",
     "text": [
      "<class 'dict'> {'a': 1, 'b': 2, 'c': 3}\n",
      "<class 'pandas.core.series.Series'> \n",
      " a    1\n",
      "b    2\n",
      "c    3\n",
      "dtype: int64\n",
      "<class 'list'> [1, 2, 3]\n",
      "<class 'pandas.core.series.Series'> \n",
      " 0    1\n",
      "1    2\n",
      "2    3\n",
      "dtype: int64\n"
     ]
    }
   ],
   "source": [
    "dict_data = {'a' : 1, 'b' : 2, 'c' : 3}\n",
    "list_data = [1, 2, 3]\n",
    "srd = pd.Series(dict_data)\n",
    "srl = pd.Series(list_data)\n",
    "\n",
    "print(type(dict_data), dict_data)\n",
    "print(type(srd), '\\n', srd)\n",
    "\n",
    "print(type(list_data), list_data)\n",
    "print(type(srl), '\\n', srl)"
   ]
  },
  {
   "cell_type": "code",
   "execution_count": 52,
   "id": "fa4f4ec5",
   "metadata": {},
   "outputs": [
    {
     "name": "stdout",
     "output_type": "stream",
     "text": [
      "srd.index :  Index(['a', 'b', 'c'], dtype='object')\n",
      "srl.index :  RangeIndex(start=0, stop=3, step=1)\n",
      "srd.values :  [1 2 3]\n",
      "srl.values :  [1 2 3]\n"
     ]
    }
   ],
   "source": [
    "# 인덱스 확인\n",
    "print(\"srd.index : \",srd.index)\n",
    "print(\"srl.index : \",srl.index)\n",
    "\n",
    "# 시리즈 값 확인\n",
    "print(\"srd.values : \",srd.values)\n",
    "print(\"srl.values : \",srl.values)"
   ]
  },
  {
   "cell_type": "code",
   "execution_count": 53,
   "id": "9bfacace",
   "metadata": {},
   "outputs": [],
   "source": [
    "# 각 자료 원소 선택\n",
    "sr_data = pd.Series(list(range(10)))\n",
    "# sr[idx_start:indx_end]\n",
    "sr_data[1:4]\n",
    "srd['a']\n",
    "sr_key = pd.Series({'a' : 1, 'b' : 2, 'c' : 3, 'd' : 4, 'e' : 5})"
   ]
  },
  {
   "cell_type": "code",
   "execution_count": 54,
   "id": "b2875406",
   "metadata": {},
   "outputs": [
    {
     "name": "stdout",
     "output_type": "stream",
     "text": [
      "a    1\n",
      "b    2\n",
      "dtype: int64 \n",
      "\n",
      "a    1\n",
      "c    3\n",
      "dtype: int64 \n",
      "\n",
      "a    1\n",
      "b    2\n",
      "c    3\n",
      "dtype: int64 \n",
      "\n",
      "a    1\n",
      "b    2\n",
      "dtype: int64 \n",
      "\n"
     ]
    }
   ],
   "source": [
    "print(sr_key[['a', 'b']], '\\n')\n",
    "print(sr_key[[0,2]], '\\n')\n",
    "\n",
    "print(sr_key['a':'c'], '\\n')\n",
    "print(sr_key[0:2], '\\n')"
   ]
  },
  {
   "cell_type": "code",
   "execution_count": 55,
   "id": "ac1a14ce",
   "metadata": {},
   "outputs": [
    {
     "data": {
      "text/plain": [
       "a    0\n",
       "b    1\n",
       "c    2\n",
       "d    3\n",
       "e    4\n",
       "dtype: int64"
      ]
     },
     "execution_count": 55,
     "metadata": {},
     "output_type": "execute_result"
    }
   ],
   "source": [
    "sr_list = pd.Series(list(range(5)), index = ['a', 'b', 'c', 'd', 'e'])\n",
    "sr_list"
   ]
  },
  {
   "cell_type": "code",
   "execution_count": 56,
   "id": "e355b382",
   "metadata": {},
   "outputs": [
    {
     "name": "stdout",
     "output_type": "stream",
     "text": [
      "e 4\n",
      "b    1\n",
      "c    2\n",
      "d    3\n",
      "dtype: int64 \t b    1\n",
      "c    2\n",
      "d    3\n",
      "e    4\n",
      "dtype: int64\n",
      "b    1\n",
      "e    4\n",
      "dtype: int64\n"
     ]
    }
   ],
   "source": [
    "# 마지막 자료를 출력 : 인덱스명과 첨자 둘다\n",
    "print(sr_list.index[-1], sr_list.values[-1])\n",
    "# 1번째부터 3번째 까지의 자료 출력\n",
    "\n",
    "print(sr_list[1:4], '\\t', sr_list['b':'e'])\n",
    "# 인덱스명 'b'와 'd'의 값 출력\n",
    "print(sr_list[['b','e']])\n"
   ]
  },
  {
   "cell_type": "code",
   "execution_count": 57,
   "id": "1bec9f08",
   "metadata": {},
   "outputs": [
    {
     "data": {
      "text/html": [
       "<div>\n",
       "<style scoped>\n",
       "    .dataframe tbody tr th:only-of-type {\n",
       "        vertical-align: middle;\n",
       "    }\n",
       "\n",
       "    .dataframe tbody tr th {\n",
       "        vertical-align: top;\n",
       "    }\n",
       "\n",
       "    .dataframe thead th {\n",
       "        text-align: right;\n",
       "    }\n",
       "</style>\n",
       "<table border=\"1\" class=\"dataframe\">\n",
       "  <thead>\n",
       "    <tr style=\"text-align: right;\">\n",
       "      <th></th>\n",
       "      <th>c0</th>\n",
       "      <th>c1</th>\n",
       "      <th>c2</th>\n",
       "    </tr>\n",
       "  </thead>\n",
       "  <tbody>\n",
       "    <tr>\n",
       "      <th>0</th>\n",
       "      <td>1</td>\n",
       "      <td>4</td>\n",
       "      <td>7</td>\n",
       "    </tr>\n",
       "    <tr>\n",
       "      <th>1</th>\n",
       "      <td>2</td>\n",
       "      <td>5</td>\n",
       "      <td>8</td>\n",
       "    </tr>\n",
       "    <tr>\n",
       "      <th>2</th>\n",
       "      <td>3</td>\n",
       "      <td>6</td>\n",
       "      <td>9</td>\n",
       "    </tr>\n",
       "  </tbody>\n",
       "</table>\n",
       "</div>"
      ],
      "text/plain": [
       "   c0  c1  c2\n",
       "0   1   4   7\n",
       "1   2   5   8\n",
       "2   3   6   9"
      ]
     },
     "execution_count": 57,
     "metadata": {},
     "output_type": "execute_result"
    }
   ],
   "source": [
    "# dataframe : 2차원, pandas.DataFrame(data, [index=], columns = [])\n",
    "# dictionary 데이터로 데이터프레임 생성\n",
    "\n",
    "dict_data = {'c0':[1,2,3],\n",
    "            'c1':[4,5,6],\n",
    "            'c2':[7,8,9]}\n",
    "\n",
    "df = pd.DataFrame(dict_data)\n",
    "df"
   ]
  },
  {
   "cell_type": "code",
   "execution_count": 69,
   "id": "98720bc4",
   "metadata": {},
   "outputs": [
    {
     "data": {
      "text/html": [
       "<div>\n",
       "<style scoped>\n",
       "    .dataframe tbody tr th:only-of-type {\n",
       "        vertical-align: middle;\n",
       "    }\n",
       "\n",
       "    .dataframe tbody tr th {\n",
       "        vertical-align: top;\n",
       "    }\n",
       "\n",
       "    .dataframe thead th {\n",
       "        text-align: right;\n",
       "    }\n",
       "</style>\n",
       "<table border=\"1\" class=\"dataframe\">\n",
       "  <thead>\n",
       "    <tr style=\"text-align: right;\">\n",
       "      <th></th>\n",
       "      <th>나이</th>\n",
       "      <th>성별</th>\n",
       "      <th>학교</th>\n",
       "    </tr>\n",
       "  </thead>\n",
       "  <tbody>\n",
       "    <tr>\n",
       "      <th>준서</th>\n",
       "      <td>15</td>\n",
       "      <td>남</td>\n",
       "      <td>수리중</td>\n",
       "    </tr>\n",
       "    <tr>\n",
       "      <th>예은</th>\n",
       "      <td>17</td>\n",
       "      <td>여</td>\n",
       "      <td>덕명중</td>\n",
       "    </tr>\n",
       "  </tbody>\n",
       "</table>\n",
       "</div>"
      ],
      "text/plain": [
       "    나이 성별   학교\n",
       "준서  15  남  수리중\n",
       "예은  17  여  덕명중"
      ]
     },
     "execution_count": 69,
     "metadata": {},
     "output_type": "execute_result"
    }
   ],
   "source": [
    "# dataframe -> index, column 명 부여\n",
    "\n",
    "df = pd.DataFrame([[15,'남','수리중'],\n",
    "                  [17,'여','덕명중']],\n",
    "                 index = ['준서', '예은'],\n",
    "                 columns = ['나이', '성별', '학교' ])\n",
    "\n",
    "df"
   ]
  },
  {
   "cell_type": "code",
   "execution_count": 70,
   "id": "3e3fa9d4",
   "metadata": {},
   "outputs": [
    {
     "data": {
      "text/html": [
       "<div>\n",
       "<style scoped>\n",
       "    .dataframe tbody tr th:only-of-type {\n",
       "        vertical-align: middle;\n",
       "    }\n",
       "\n",
       "    .dataframe tbody tr th {\n",
       "        vertical-align: top;\n",
       "    }\n",
       "\n",
       "    .dataframe thead th {\n",
       "        text-align: right;\n",
       "    }\n",
       "</style>\n",
       "<table border=\"1\" class=\"dataframe\">\n",
       "  <thead>\n",
       "    <tr style=\"text-align: right;\">\n",
       "      <th></th>\n",
       "      <th>나이</th>\n",
       "      <th>성별</th>\n",
       "      <th>학교</th>\n",
       "    </tr>\n",
       "  </thead>\n",
       "  <tbody>\n",
       "    <tr>\n",
       "      <th>준서</th>\n",
       "      <td>15</td>\n",
       "      <td>남</td>\n",
       "      <td>수리중</td>\n",
       "    </tr>\n",
       "    <tr>\n",
       "      <th>예은</th>\n",
       "      <td>17</td>\n",
       "      <td>여</td>\n",
       "      <td>덕명중</td>\n",
       "    </tr>\n",
       "    <tr>\n",
       "      <th>철수</th>\n",
       "      <td>17</td>\n",
       "      <td>남</td>\n",
       "      <td>수리중</td>\n",
       "    </tr>\n",
       "  </tbody>\n",
       "</table>\n",
       "</div>"
      ],
      "text/plain": [
       "    나이 성별   학교\n",
       "준서  15  남  수리중\n",
       "예은  17  여  덕명중\n",
       "철수  17  남  수리중"
      ]
     },
     "execution_count": 70,
     "metadata": {},
     "output_type": "execute_result"
    }
   ],
   "source": [
    "#새로운 행을 추가 df.loc['인덳,명'] = [값, ..] 또는 df.인덱스명 = 값\n",
    "\n",
    "df.loc['철수'] = [17,'남','수리중']\n",
    "\n",
    "df"
   ]
  },
  {
   "cell_type": "code",
   "execution_count": 76,
   "id": "b911c986",
   "metadata": {},
   "outputs": [
    {
     "data": {
      "text/html": [
       "<div>\n",
       "<style scoped>\n",
       "    .dataframe tbody tr th:only-of-type {\n",
       "        vertical-align: middle;\n",
       "    }\n",
       "\n",
       "    .dataframe tbody tr th {\n",
       "        vertical-align: top;\n",
       "    }\n",
       "\n",
       "    .dataframe thead th {\n",
       "        text-align: right;\n",
       "    }\n",
       "</style>\n",
       "<table border=\"1\" class=\"dataframe\">\n",
       "  <thead>\n",
       "    <tr style=\"text-align: right;\">\n",
       "      <th></th>\n",
       "      <th>나이</th>\n",
       "      <th>남녀</th>\n",
       "      <th>학교</th>\n",
       "    </tr>\n",
       "  </thead>\n",
       "  <tbody>\n",
       "    <tr>\n",
       "      <th>준서</th>\n",
       "      <td>15</td>\n",
       "      <td>남</td>\n",
       "      <td>수리중</td>\n",
       "    </tr>\n",
       "    <tr>\n",
       "      <th>b</th>\n",
       "      <td>17</td>\n",
       "      <td>여</td>\n",
       "      <td>덕명중</td>\n",
       "    </tr>\n",
       "    <tr>\n",
       "      <th>c</th>\n",
       "      <td>17</td>\n",
       "      <td>남</td>\n",
       "      <td>수리중</td>\n",
       "    </tr>\n",
       "  </tbody>\n",
       "</table>\n",
       "</div>"
      ],
      "text/plain": [
       "    나이 남녀   학교\n",
       "준서  15  남  수리중\n",
       "b   17  여  덕명중\n",
       "c   17  남  수리중"
      ]
     },
     "execution_count": 76,
     "metadata": {},
     "output_type": "execute_result"
    }
   ],
   "source": [
    "# 인덱스명 변경 -> 행 인덱스, 열 이름\n",
    "# 객체명.index = 새로운 인덱스명\n",
    "# 객체명.column = 새로운 칼럼명\n",
    "\n",
    "df.index = ['a', 'b', 'c']\n",
    "df\n",
    "\n",
    "# 일부 인덱스명만 수정\n",
    "# 객체명.rename(index={ 기존인덱스명 : 새 인덱스명, ....})\n",
    "# 객체명.rename(column={ 기존컬럼명 : 새 컬럼명, ....})\n",
    "# 남녀 -> 성별, 'a' -> '준서'로 변경하기\n",
    "\n",
    "df.rename(columns={'성별':'남녀'}, index = {'a' : '준서'})"
   ]
  },
  {
   "cell_type": "code",
   "execution_count": 79,
   "id": "d3c2a38f",
   "metadata": {},
   "outputs": [],
   "source": [
    "# 행과 열을 삭제 \n",
    "# 행 삭제 -> 객체.drop(행인덱스 또는 배열, axis=0)\n",
    "# 열 삭제 -> 객체.drop(열인덱스 또는 배열, axis=1)\n",
    "\n",
    "# df.drop('남녀', axis=1)\n",
    "# df\n"
   ]
  },
  {
   "cell_type": "code",
   "execution_count": 83,
   "id": "963fb1f1",
   "metadata": {},
   "outputs": [
    {
     "name": "stdout",
     "output_type": "stream",
     "text": [
      "이름 국어 영어 수학 과학 점수 > a 1 2 3 4\n",
      "이름 국어 영어 수학 과학 점수 > b 2 3 4 5\n",
      "이름 국어 영어 수학 과학 점수 > q\n"
     ]
    },
    {
     "ename": "TypeError",
     "evalue": "'Data' object is not iterable",
     "output_type": "error",
     "traceback": [
      "\u001b[1;31m---------------------------------------------------------------------------\u001b[0m",
      "\u001b[1;31mTypeError\u001b[0m                                 Traceback (most recent call last)",
      "\u001b[1;32m~\\AppData\\Local\\Temp/ipykernel_12304/2334720201.py\u001b[0m in \u001b[0;36m<module>\u001b[1;34m\u001b[0m\n\u001b[0;32m     25\u001b[0m     \u001b[0mdict_data\u001b[0m \u001b[1;33m=\u001b[0m \u001b[0mData\u001b[0m\u001b[1;33m(\u001b[0m\u001b[0mdata\u001b[0m\u001b[1;33m[\u001b[0m\u001b[1;36m0\u001b[0m\u001b[1;33m]\u001b[0m\u001b[1;33m,\u001b[0m \u001b[0mdata\u001b[0m\u001b[1;33m[\u001b[0m\u001b[1;36m1\u001b[0m\u001b[1;33m]\u001b[0m\u001b[1;33m,\u001b[0m \u001b[0mdata\u001b[0m\u001b[1;33m[\u001b[0m\u001b[1;36m2\u001b[0m\u001b[1;33m]\u001b[0m\u001b[1;33m,\u001b[0m \u001b[0mdata\u001b[0m\u001b[1;33m[\u001b[0m\u001b[1;36m3\u001b[0m\u001b[1;33m]\u001b[0m\u001b[1;33m,\u001b[0m \u001b[0mdata\u001b[0m\u001b[1;33m[\u001b[0m\u001b[1;36m4\u001b[0m\u001b[1;33m]\u001b[0m\u001b[1;33m)\u001b[0m\u001b[1;33m\u001b[0m\u001b[1;33m\u001b[0m\u001b[0m\n\u001b[0;32m     26\u001b[0m \u001b[1;33m\u001b[0m\u001b[0m\n\u001b[1;32m---> 27\u001b[1;33m \u001b[0mprint\u001b[0m\u001b[1;33m(\u001b[0m\u001b[0mlist\u001b[0m\u001b[1;33m(\u001b[0m\u001b[0mdict_data\u001b[0m\u001b[1;33m)\u001b[0m\u001b[1;33m)\u001b[0m\u001b[1;33m\u001b[0m\u001b[1;33m\u001b[0m\u001b[0m\n\u001b[0m",
      "\u001b[1;31mTypeError\u001b[0m: 'Data' object is not iterable"
     ]
    }
   ],
   "source": [
    "# 이름을 키로, 국어, 영어, 수학, 과학 점수를 값으로\n",
    "# 입력받아 dictionary에 저장 후\n",
    "# 해당 자료를 데이터 프레임으로 전환 -> 인덱스명은 이름으로\n",
    "\n",
    "class Data:\n",
    "    \n",
    "    dict_data = {}\n",
    "    def __init__(self, name, kor, eng, math, sci):\n",
    "        self.name = name\n",
    "        self.kor = kor\n",
    "        self.eng = eng\n",
    "        self.math = math\n",
    "        self.sci = sci\n",
    "        \n",
    "    def dict_save(self):\n",
    "        Data.dict_data[self.name] = [self.kor, self.eng, self.math, self.sci]\n",
    "        return Data.dict_data\n",
    "\n",
    "dict_data = {}\n",
    "\n",
    "while 1:\n",
    "    data = input(\"이름 국어 영어 수학 과학 점수 > \").split()\n",
    "\n",
    "    if data[0] == 'q':\n",
    "        break\n",
    "    \n",
    "    dict_data = Data(data[0], data[1], data[2], data[3], data[4])\n",
    "    \n",
    "print(list(dict_data))"
   ]
  },
  {
   "cell_type": "code",
   "execution_count": 84,
   "id": "37513826",
   "metadata": {},
   "outputs": [
    {
     "name": "stdout",
     "output_type": "stream",
     "text": [
      "    수학  영어   음악   체육\n",
      "서준  90  99   85  100\n",
      "우현  80  89   95   90\n",
      "인아  70  95  100  100\n"
     ]
    }
   ],
   "source": [
    "exam_data = {'수학' : [90,80,70], '영어' : [99,89,95], '음악' : [85,95,100], '체육' : [100,90,100]}\n",
    "\n",
    "df = pd.DataFrame(exam_data, index = ['서준', '우현', '인아'])\n",
    "print(df)"
   ]
  },
  {
   "cell_type": "code",
   "execution_count": 88,
   "id": "86e810ff",
   "metadata": {},
   "outputs": [
    {
     "name": "stdout",
     "output_type": "stream",
     "text": [
      "수학     90\n",
      "영어     99\n",
      "음악     85\n",
      "체육    100\n",
      "Name: 서준, dtype: int64\n",
      "수학     90\n",
      "영어     99\n",
      "음악     85\n",
      "체육    100\n",
      "Name: 서준, dtype: int64\n",
      "    수학  영어  음악   체육\n",
      "서준  90  99  85  100\n",
      "우현  80  89  95   90\n",
      "    수학  영어  음악   체육\n",
      "서준  90  99  85  100\n",
      "우현  80  89  95   90\n",
      "    수학  영어  음악   체육\n",
      "서준  90  99  85  100\n",
      "우현  80  89  95   90\n",
      "    수학  영어  음악   체육\n",
      "서준  90  99  85  100\n"
     ]
    }
   ],
   "source": [
    "# 행 인덱스(이름)를 사용하여 1개 행 선택('서준')\n",
    "print(df.loc['서준'])\n",
    "\n",
    "# 행 인덱스(정수)를 사용하여 1개 행 선택(0행)\n",
    "print(df.iloc[0])\n",
    "\n",
    "# 두 개의 행을 선택 '서준', '우현'\n",
    "print(df.loc[['서준', '우현']])\n",
    "print(df.iloc[[0,1]])\n",
    "\n",
    "# 범위를 선택 '서준' : '우현'\n",
    "print(df.loc['서준' : '우현'])\n",
    "print(df.iloc[0:1])"
   ]
  },
  {
   "cell_type": "code",
   "execution_count": 91,
   "id": "1a484977",
   "metadata": {},
   "outputs": [
    {
     "name": "stdout",
     "output_type": "stream",
     "text": [
      "서준    90\n",
      "우현    80\n",
      "인아    70\n",
      "Name: 수학, dtype: int64 \n",
      " 서준    90\n",
      "우현    80\n",
      "인아    70\n",
      "Name: 수학, dtype: int64\n",
      "    수학  영어  음악  체육\n",
      "우현  80  89  95  90\n"
     ]
    }
   ],
   "source": [
    "#컬럼 (열)을 선택 : df.컬럼명 또는 df['컬럼명']\n",
    "print(df.수학, '\\n', df['수학'])\n",
    "print( df['수학':'음악'])"
   ]
  },
  {
   "cell_type": "code",
   "execution_count": 97,
   "id": "87430e56",
   "metadata": {},
   "outputs": [
    {
     "data": {
      "text/html": [
       "<div>\n",
       "<style scoped>\n",
       "    .dataframe tbody tr th:only-of-type {\n",
       "        vertical-align: middle;\n",
       "    }\n",
       "\n",
       "    .dataframe tbody tr th {\n",
       "        vertical-align: top;\n",
       "    }\n",
       "\n",
       "    .dataframe thead th {\n",
       "        text-align: right;\n",
       "    }\n",
       "</style>\n",
       "<table border=\"1\" class=\"dataframe\">\n",
       "  <thead>\n",
       "    <tr style=\"text-align: right;\">\n",
       "      <th></th>\n",
       "      <th>수학</th>\n",
       "      <th>영어</th>\n",
       "      <th>음악</th>\n",
       "      <th>체육</th>\n",
       "    </tr>\n",
       "  </thead>\n",
       "  <tbody>\n",
       "    <tr>\n",
       "      <th>서준</th>\n",
       "      <td>90</td>\n",
       "      <td>99</td>\n",
       "      <td>85</td>\n",
       "      <td>100</td>\n",
       "    </tr>\n",
       "    <tr>\n",
       "      <th>인아</th>\n",
       "      <td>70</td>\n",
       "      <td>95</td>\n",
       "      <td>100</td>\n",
       "      <td>100</td>\n",
       "    </tr>\n",
       "  </tbody>\n",
       "</table>\n",
       "</div>"
      ],
      "text/plain": [
       "    수학  영어   음악   체육\n",
       "서준  90  99   85  100\n",
       "인아  70  95  100  100"
      ]
     },
     "execution_count": 97,
     "metadata": {},
     "output_type": "execute_result"
    }
   ],
   "source": [
    "# 범위 슬라이싱 : 객체.iloc[start : end : step]\n",
    "\n",
    "# df.iloc[0:3:1]\n",
    "# df.iloc[::-1]\n",
    "df.iloc[::2]"
   ]
  },
  {
   "cell_type": "code",
   "execution_count": 120,
   "id": "d1f8eac5",
   "metadata": {},
   "outputs": [
    {
     "name": "stdout",
     "output_type": "stream",
     "text": [
      "99 99\n",
      "\n",
      "    영어   음악\n",
      "서준  99   85\n",
      "인아  95  100\n",
      "\n",
      "    수학  영어   음악\n",
      "서준  90  99   85\n",
      "우현  80  89   95\n",
      "인아  70  95  100\n",
      "\n",
      "    수학  영어   음악\n",
      "서준  90  99   85\n",
      "우현  80  89   95\n",
      "인아  70  95  100\n",
      "철수  80  90  100\n",
      "추가  90  99   85\n",
      "\n"
     ]
    },
    {
     "data": {
      "text/html": [
       "<div>\n",
       "<style scoped>\n",
       "    .dataframe tbody tr th:only-of-type {\n",
       "        vertical-align: middle;\n",
       "    }\n",
       "\n",
       "    .dataframe tbody tr th {\n",
       "        vertical-align: top;\n",
       "    }\n",
       "\n",
       "    .dataframe thead th {\n",
       "        text-align: right;\n",
       "    }\n",
       "</style>\n",
       "<table border=\"1\" class=\"dataframe\">\n",
       "  <thead>\n",
       "    <tr style=\"text-align: right;\">\n",
       "      <th></th>\n",
       "      <th>수학</th>\n",
       "      <th>영어</th>\n",
       "      <th>음악</th>\n",
       "      <th>체육</th>\n",
       "    </tr>\n",
       "  </thead>\n",
       "  <tbody>\n",
       "    <tr>\n",
       "      <th>서준</th>\n",
       "      <td>90</td>\n",
       "      <td>99</td>\n",
       "      <td>85</td>\n",
       "      <td>100</td>\n",
       "    </tr>\n",
       "    <tr>\n",
       "      <th>우현</th>\n",
       "      <td>80</td>\n",
       "      <td>89</td>\n",
       "      <td>95</td>\n",
       "      <td>90</td>\n",
       "    </tr>\n",
       "    <tr>\n",
       "      <th>인아</th>\n",
       "      <td>70</td>\n",
       "      <td>95</td>\n",
       "      <td>100</td>\n",
       "      <td>100</td>\n",
       "    </tr>\n",
       "    <tr>\n",
       "      <th>철수</th>\n",
       "      <td>80</td>\n",
       "      <td>90</td>\n",
       "      <td>100</td>\n",
       "      <td>90</td>\n",
       "    </tr>\n",
       "    <tr>\n",
       "      <th>추가</th>\n",
       "      <td>90</td>\n",
       "      <td>99</td>\n",
       "      <td>85</td>\n",
       "      <td>100</td>\n",
       "    </tr>\n",
       "  </tbody>\n",
       "</table>\n",
       "</div>"
      ],
      "text/plain": [
       "    수학  영어   음악   체육\n",
       "서준  90  99   85  100\n",
       "우현  80  89   95   90\n",
       "인아  70  95  100  100\n",
       "철수  80  90  100   90\n",
       "추가  90  99   85  100"
      ]
     },
     "execution_count": 120,
     "metadata": {},
     "output_type": "execute_result"
    }
   ],
   "source": [
    "# 데이터프레임의 각 원소를 선택\n",
    "# 인덱스 이름 : 데이터프레임 객체.loc[행 인덱스명, 컬럼명]\n",
    "# 정수 위치 인덱서 : 데이터프레임 객체.iloc[행번호, 열 번호]\n",
    "# 서준의 여어 점수를 출럭\n",
    "\n",
    "print(df.loc['서준', '영어'], df.iloc[0,1])\n",
    "print()\n",
    "# 서준과 인아의 영어와 음악점수 출력\n",
    "print(df.loc[['서준','인아'], ['영어','음악']])\n",
    "print()\n",
    "# 서준부터 인아까지 수학와 음악점수 출력\n",
    "print(df.loc['서준':'인아', '수학':'음악'])\n",
    "print()\n",
    "print(df.iloc[:,:-1])\n",
    "print()\n",
    "# 서준의 수학과 체육 점수만 출력\n",
    "df.loc[['서준'], ['수학','체육']]    # dataframe\n",
    "df.loc['서준', ['수학','체육']]      # series\n",
    "\n",
    "df.loc['철수'] = [80, 90, 100, 90]   # 새로운 행 추가\n",
    "df\n",
    "\n",
    "#기존의 행을 복사해서 추가\n",
    "df.loc['추가'] = df.loc['서준']\n",
    "df"
   ]
  },
  {
   "cell_type": "code",
   "execution_count": 122,
   "id": "9f7e2d98",
   "metadata": {},
   "outputs": [
    {
     "data": {
      "text/html": [
       "<div>\n",
       "<style scoped>\n",
       "    .dataframe tbody tr th:only-of-type {\n",
       "        vertical-align: middle;\n",
       "    }\n",
       "\n",
       "    .dataframe tbody tr th {\n",
       "        vertical-align: top;\n",
       "    }\n",
       "\n",
       "    .dataframe thead th {\n",
       "        text-align: right;\n",
       "    }\n",
       "</style>\n",
       "<table border=\"1\" class=\"dataframe\">\n",
       "  <thead>\n",
       "    <tr style=\"text-align: right;\">\n",
       "      <th></th>\n",
       "      <th>kor</th>\n",
       "      <th>eng</th>\n",
       "      <th>math</th>\n",
       "    </tr>\n",
       "  </thead>\n",
       "  <tbody>\n",
       "  </tbody>\n",
       "</table>\n",
       "</div>"
      ],
      "text/plain": [
       "Empty DataFrame\n",
       "Columns: [kor, eng, math]\n",
       "Index: []"
      ]
     },
     "execution_count": 122,
     "metadata": {},
     "output_type": "execute_result"
    }
   ],
   "source": [
    "df = pd.DataFrame(columns=['kor', 'eng', 'math'])\n",
    "df"
   ]
  },
  {
   "cell_type": "code",
   "execution_count": 151,
   "id": "2afd919f",
   "metadata": {},
   "outputs": [],
   "source": [
    "# 이름, 국어, 영어, 수학 점수를 입력받아 이름을 인덱스를 데이터 프레임에 저장\n",
    "# df를 출력\n",
    "# 이름을 입력받아 데이터프레임의 자료를 검색해서 출력\n",
    "# 이름과 과목을 입력 받아 데이터 출력\n",
    "\n",
    "def create_score():\n",
    "    \n",
    "    dict_score = {}\n",
    "    while 1:\n",
    "        \n",
    "        std = input(\"이름, 국어, 영어, 수학 점수 > \").split()\n",
    "\n",
    "        if std[0] == 'q':\n",
    "            break\n",
    "            \n",
    "        dict_score[std[0]] = list(map(int,[i for i in std[1:]]))\n",
    "    return dict_score\n",
    "\n",
    "def search_name(df):\n",
    "    name = input(\"이름 > \")\n",
    "    return df.loc[name]\n",
    "\n",
    "def search_score(df):\n",
    "    name = input(\"이름 > \")\n",
    "    obj = input(\"과목 > ('kor', 'eng', 'math' 중에 선택) \")\n",
    "    return df.loc[name, [obj]]"
   ]
  },
  {
   "cell_type": "code",
   "execution_count": 152,
   "id": "30606320",
   "metadata": {},
   "outputs": [
    {
     "name": "stdout",
     "output_type": "stream",
     "text": [
      "이름, 국어, 영어, 수학 점수 > a 1 2 3\n",
      "이름, 국어, 영어, 수학 점수 > b 2 3 4\n",
      "이름, 국어, 영어, 수학 점수 > c 3 4 5\n",
      "이름, 국어, 영어, 수학 점수 > q\n"
     ]
    }
   ],
   "source": [
    "df = pd.DataFrame(create_score(), index=['kor', 'eng', 'math'])\n",
    "df = df.transpose()"
   ]
  },
  {
   "cell_type": "code",
   "execution_count": 153,
   "id": "eb79084f",
   "metadata": {},
   "outputs": [
    {
     "name": "stdout",
     "output_type": "stream",
     "text": [
      "이름 > a\n"
     ]
    },
    {
     "data": {
      "text/plain": [
       "kor     1\n",
       "eng     2\n",
       "math    3\n",
       "Name: a, dtype: int64"
      ]
     },
     "execution_count": 153,
     "metadata": {},
     "output_type": "execute_result"
    }
   ],
   "source": [
    "search_name(df)"
   ]
  },
  {
   "cell_type": "code",
   "execution_count": 154,
   "id": "3da9f615",
   "metadata": {},
   "outputs": [
    {
     "name": "stdout",
     "output_type": "stream",
     "text": [
      "이름 > a\n",
      "과목 > ('kor', 'eng', 'math' 중에 선택) math\n"
     ]
    },
    {
     "data": {
      "text/plain": [
       "math    3\n",
       "Name: a, dtype: int64"
      ]
     },
     "execution_count": 154,
     "metadata": {},
     "output_type": "execute_result"
    }
   ],
   "source": [
    "search_score(df)"
   ]
  },
  {
   "cell_type": "code",
   "execution_count": null,
   "id": "e1386a5a",
   "metadata": {},
   "outputs": [],
   "source": []
  }
 ],
 "metadata": {
  "kernelspec": {
   "display_name": "Python 3 (ipykernel)",
   "language": "python",
   "name": "python3"
  },
  "language_info": {
   "codemirror_mode": {
    "name": "ipython",
    "version": 3
   },
   "file_extension": ".py",
   "mimetype": "text/x-python",
   "name": "python",
   "nbconvert_exporter": "python",
   "pygments_lexer": "ipython3",
   "version": "3.9.7"
  }
 },
 "nbformat": 4,
 "nbformat_minor": 5
}
